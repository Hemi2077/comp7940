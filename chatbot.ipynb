{
 "cells": [
  {
   "cell_type": "code",
   "execution_count": null,
   "id": "4bfee7fa",
   "metadata": {},
   "outputs": [
    {
     "name": "stderr",
     "output_type": "stream",
     "text": [
      "2023-02-14 15:23:28,549 - apscheduler.scheduler - INFO - Scheduler started\n",
      "2023-02-14 15:25:57,070 - root - INFO - Update: {'message': {'chat': {'id': 6186937510, 'last_name': 'Yue', 'type': 'private', 'first_name': 'M'}, 'group_chat_created': False, 'channel_chat_created': False, 'caption_entities': [], 'entities': [], 'text': 'hello', 'photo': [], 'message_id': 2, 'new_chat_photo': [], 'date': 1676359557, 'supergroup_chat_created': False, 'new_chat_members': [], 'delete_chat_photo': False, 'from': {'id': 6186937510, 'last_name': 'Yue', 'first_name': 'M', 'language_code': 'zh-hans', 'is_bot': False}}, 'update_id': 52020937}\n",
      "2023-02-14 15:25:57,072 - root - INFO - context: <telegram.ext.callbackcontext.CallbackContext object at 0x00000245941BED60>\n",
      "2023-02-14 15:26:20,728 - root - INFO - Update: {'message': {'chat': {'id': 6186937510, 'last_name': 'Yue', 'type': 'private', 'first_name': 'M'}, 'group_chat_created': False, 'channel_chat_created': False, 'caption_entities': [], 'entities': [], 'text': 'what you can do', 'photo': [], 'message_id': 4, 'new_chat_photo': [], 'date': 1676359580, 'supergroup_chat_created': False, 'new_chat_members': [], 'delete_chat_photo': False, 'from': {'id': 6186937510, 'last_name': 'Yue', 'first_name': 'M', 'language_code': 'zh-hans', 'is_bot': False}}, 'update_id': 52020938}\n",
      "2023-02-14 15:26:20,729 - root - INFO - context: <telegram.ext.callbackcontext.CallbackContext object at 0x00000245941BEF90>\n",
      "2023-02-14 15:26:25,978 - root - INFO - Update: {'message': {'chat': {'id': 6186937510, 'last_name': 'Yue', 'type': 'private', 'first_name': 'M'}, 'group_chat_created': False, 'channel_chat_created': False, 'caption_entities': [], 'entities': [], 'text': 'aaa', 'photo': [], 'message_id': 6, 'new_chat_photo': [], 'date': 1676359585, 'supergroup_chat_created': False, 'new_chat_members': [], 'delete_chat_photo': False, 'from': {'id': 6186937510, 'last_name': 'Yue', 'first_name': 'M', 'language_code': 'zh-hans', 'is_bot': False}}, 'update_id': 52020939}\n",
      "2023-02-14 15:26:25,979 - root - INFO - context: <telegram.ext.callbackcontext.CallbackContext object at 0x00000245941BEF20>\n",
      "2023-02-14 15:28:20,800 - telegram.ext.updater - INFO - Received signal 2 (SIGINT), stopping...\n",
      "2023-02-14 15:28:20,800 - apscheduler.scheduler - INFO - Scheduler has been shut down\n"
     ]
    }
   ],
   "source": [
    "import telegram\n",
    "from telegram.ext import Updater, MessageHandler, Filters\n",
    "# The messageHandler is used for all message updates\n",
    "import configparser\n",
    "import logging\n",
    "def main():\n",
    "    # Load your token and create an Updater for your Bot\n",
    "    config = configparser.ConfigParser()\n",
    "    config.read('config.ini')\n",
    "    updater = Updater(token=(config['TELEGRAM']['ACCESS_TOKEN']), use_context=True)\n",
    "    dispatcher = updater.dispatcher\n",
    "    # You can set this logging module, so you will know when and why things do not work as expected\n",
    "    logging.basicConfig(format='%(asctime)s - %(name)s - %(levelname)s - %(message)s',\n",
    "                        level=logging.INFO)\n",
    "    # register a dispatcher to handle message: here we register an echo dispatcher\n",
    "    echo_handler = MessageHandler(Filters.text & (~Filters.command), echo)\n",
    "    dispatcher.add_handler(echo_handler)\n",
    "    # To start the bot:\n",
    "    updater.start_polling()\n",
    "    updater.idle()\n",
    "    \n",
    "def echo(update, context):\n",
    "    reply_message = update.message.text.upper()\n",
    "    logging.info(\"Update: \" + str(update))\n",
    "    logging.info(\"context: \" + str(context))\n",
    "    context.bot.send_message(chat_id=update.effective_chat.id, text= reply_message)\n",
    "if __name__ == '__main__':\n",
    "    main()\n"
   ]
  },
  {
   "cell_type": "code",
   "execution_count": null,
   "id": "38587706",
   "metadata": {},
   "outputs": [],
   "source": []
  }
 ],
 "metadata": {
  "kernelspec": {
   "display_name": "Python 3 (ipykernel)",
   "language": "python",
   "name": "python3"
  },
  "language_info": {
   "codemirror_mode": {
    "name": "ipython",
    "version": 3
   },
   "file_extension": ".py",
   "mimetype": "text/x-python",
   "name": "python",
   "nbconvert_exporter": "python",
   "pygments_lexer": "ipython3",
   "version": "3.9.12"
  }
 },
 "nbformat": 4,
 "nbformat_minor": 5
}
